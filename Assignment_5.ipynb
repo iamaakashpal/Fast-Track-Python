{
 "cells": [
  {
   "cell_type": "markdown",
   "metadata": {},
   "source": [
    "    1. Explain super() in the context of inheritance."
   ]
  },
  {
   "cell_type": "markdown",
   "metadata": {},
   "source": [
    "--> super is used to refer immediate parent class instance variable. We can use super keyword to access the data member or field of parent class inside child class."
   ]
  },
  {
   "cell_type": "markdown",
   "metadata": {},
   "source": [
    "    2. Describe the file-handling system."
   ]
  },
  {
   "cell_type": "markdown",
   "metadata": {},
   "source": [
    "--> Python has a built-in open() function to open a file. This function returns a file object, also called a handle, as it is used to read or modify the file accordingly.\n",
    "\n",
    "        r Opens a file for reading. (default)\n",
    "        w Opens a file for writing. Creates a new file if it does not exist or truncates the file if it exists.\n",
    "        x Opens a file for exclusive creation. If the file already exists, the operation fails.\n",
    "        a Opens a file for appending at the end of the file without truncating it. Creates a new file if it does not exist.\n",
    "        t Opens in text mode. (default)\n",
    "        b Opens in binary mode.\n",
    "        + Opens a file for updating (reading and writing)"
   ]
  },
  {
   "cell_type": "markdown",
   "metadata": {},
   "source": [
    "    3. In Python, explain multiple inheritance."
   ]
  },
  {
   "cell_type": "markdown",
   "metadata": {},
   "source": [
    "--> Inheritance is the mechanism to achieve the re-usability of code as one class(child class) can derive the properties of another class(parent class). It also provides transitivity ie. if class C inherits from A then all the sub-classes of C would also inherit from A."
   ]
  },
  {
   "cell_type": "markdown",
   "metadata": {},
   "source": [
    "    4. Write the MySQL query syntax for INSERT, UPDATE, and DROP."
   ]
  },
  {
   "cell_type": "markdown",
   "metadata": {},
   "source": [
    "-->Syntax for Insert\n",
    "\n",
    "        insert into table_name ( field1, field2,...fieldN ) values ( value1, value2,...valueN ); \n",
    "\n",
    "--> Syntax for Update\n",
    "\n",
    "        update table_name     \n",
    "        set column_name1 = new_value1,   \n",
    "                column_name2=new_value2, ...    \n",
    "        [where Clause] \n",
    "\n",
    "--> Syntax for Drop\n",
    "\n",
    "        drop table table_name;  "
   ]
  },
  {
   "cell_type": "markdown",
   "metadata": {},
   "source": [
    "    5. Describe MongoDB's features."
   ]
  },
  {
   "cell_type": "markdown",
   "metadata": {},
   "source": [
    "--> Ad-hoc queries for optimized, real-time analytics. \n",
    "\n",
    "--> Indexing appropriately for better query executions. \n",
    "\n",
    "--> Replication for better data availability and stability. \n",
    "\n",
    "--> Sharding. \n",
    "\n",
    "--> Load balancing."
   ]
  }
 ],
 "metadata": {
  "kernelspec": {
   "display_name": "Python 3.9.7 ('base')",
   "language": "python",
   "name": "python3"
  },
  "language_info": {
   "codemirror_mode": {
    "name": "ipython",
    "version": 3
   },
   "file_extension": ".py",
   "mimetype": "text/x-python",
   "name": "python",
   "nbconvert_exporter": "python",
   "pygments_lexer": "ipython3",
   "version": "3.9.7"
  },
  "orig_nbformat": 4,
  "vscode": {
   "interpreter": {
    "hash": "ad2bdc8ecc057115af97d19610ffacc2b4e99fae6737bb82f5d7fb13d2f2c186"
   }
  }
 },
 "nbformat": 4,
 "nbformat_minor": 2
}
