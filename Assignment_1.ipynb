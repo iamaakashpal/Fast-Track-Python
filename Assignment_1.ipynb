{
 "cells": [
  {
   "cell_type": "markdown",
   "metadata": {},
   "source": [
    "    1. What makes NumPy.shape() different from NumPy.size()?"
   ]
  },
  {
   "cell_type": "markdown",
   "metadata": {},
   "source": [
    "--> NumPy.shape() return the shape of an array whereas NumPy.size() return the number of elements along a given axis."
   ]
  },
  {
   "cell_type": "markdown",
   "metadata": {},
   "source": [
    "    2. In NumPy, describe the idea of broadcasting."
   ]
  },
  {
   "cell_type": "markdown",
   "metadata": {},
   "source": [
    "--> The term broadcasting describes how NumPy treats arrays with different shapes during arithmetic operations"
   ]
  },
  {
   "cell_type": "markdown",
   "metadata": {},
   "source": [
    "    3. What makes Python better than other libraries for numerical computation?"
   ]
  },
  {
   "cell_type": "markdown",
   "metadata": {},
   "source": [
    "--> Python is accessible and readable, which makes its programmers easy to express concepts in fewer lines. However, it is not suitable as NumPy in the case of large data multidimensional programs. But it's technically possible to perform scalar and matrix calculations using python lists, but it has poor performance."
   ]
  },
  {
   "cell_type": "markdown",
   "metadata": {},
   "source": [
    "    4. How does NumPy deal with files?"
   ]
  },
  {
   "cell_type": "markdown",
   "metadata": {},
   "source": [
    "--> Use numpy.loadtxt() if we don't have missing values.\n",
    "\n",
    "--> Use numpy.genfromtxt() if we have missing values."
   ]
  },
  {
   "cell_type": "markdown",
   "metadata": {},
   "source": [
    "    5. Mention the importance of NumPy.empty()."
   ]
  },
  {
   "cell_type": "markdown",
   "metadata": {},
   "source": [
    "--> The empty() function is used to create a new array of given shape and type, without initializing entries"
   ]
  }
 ],
 "metadata": {
  "kernelspec": {
   "display_name": "Python 3.9.7 ('base')",
   "language": "python",
   "name": "python3"
  },
  "language_info": {
   "codemirror_mode": {
    "name": "ipython",
    "version": 3
   },
   "file_extension": ".py",
   "mimetype": "text/x-python",
   "name": "python",
   "nbconvert_exporter": "python",
   "pygments_lexer": "ipython3",
   "version": "3.9.7"
  },
  "orig_nbformat": 4,
  "vscode": {
   "interpreter": {
    "hash": "ad2bdc8ecc057115af97d19610ffacc2b4e99fae6737bb82f5d7fb13d2f2c186"
   }
  }
 },
 "nbformat": 4,
 "nbformat_minor": 2
}
