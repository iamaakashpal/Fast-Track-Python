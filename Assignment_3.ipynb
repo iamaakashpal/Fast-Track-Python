{
 "cells": [
  {
   "cell_type": "markdown",
   "metadata": {},
   "source": [
    "    1. What is the process for loading a dataset from an external source?"
   ]
  },
  {
   "cell_type": "code",
   "execution_count": null,
   "metadata": {},
   "outputs": [],
   "source": [
    "import pandas as pd\n",
    "\n",
    "a = pd.read_csv('https://raw.githubusercontent.com/iamaakashpal/EDA/main/train.csv')\n",
    "print(a)"
   ]
  },
  {
   "cell_type": "markdown",
   "metadata": {},
   "source": [
    "    2. How can we use pandas to read JSON files?"
   ]
  },
  {
   "cell_type": "markdown",
   "metadata": {},
   "source": [
    "    import pandas as pd\n",
    "\n",
    "    a = pd.read_json('file path')\n",
    "    print(a)"
   ]
  },
  {
   "cell_type": "markdown",
   "metadata": {},
   "source": [
    "    3. Describe the significance of DASK."
   ]
  },
  {
   "cell_type": "markdown",
   "metadata": {},
   "source": [
    "    --> Dask emphasizes the following virtues: \n",
    "    --> Familiar: Provides parallelized NumPy array and Pandas DataFrame objects.\n",
    "    --> Flexible: Provides a task scheduling interface for more custom workloads and integration with other projects. \n",
    "    --> Native: Enables distributed computing in pure Python with access to the PyData stack.\n",
    "    --> Fast: Operates with low overhead, low latency, and minimal serialization necessary for fast numerical algorithms."
   ]
  },
  {
   "cell_type": "markdown",
   "metadata": {},
   "source": [
    "    4. Describe the functions of DASK."
   ]
  },
  {
   "cell_type": "markdown",
   "metadata": {},
   "source": [
    "    --> Scales up: Runs resiliently on clusters with 1000s of cores.\n",
    "    --> Scales down: Trivial to set up and run on a laptop in a single process.\n",
    "    --> Responsive: Designed with interactive computing in mind, it provides rapid feedback and diagnostics to aid humans."
   ]
  },
  {
   "cell_type": "markdown",
   "metadata": {},
   "source": [
    "    5. Describe Cassandra's features."
   ]
  },
  {
   "cell_type": "markdown",
   "metadata": {},
   "source": [
    "    --> High Scalability. Adding nodes to the Cassandra cluster is meant to be easy and available at any given time as your needs grow.\n",
    "    --> Fast Writes.\n",
    "    --> Fault Tolerant.\n",
    "    --> Cassandra Query Language.\n",
    "    --> Tunable Consistency."
   ]
  }
 ],
 "metadata": {
  "kernelspec": {
   "display_name": "Python 3.9.7 ('base')",
   "language": "python",
   "name": "python3"
  },
  "language_info": {
   "codemirror_mode": {
    "name": "ipython",
    "version": 3
   },
   "file_extension": ".py",
   "mimetype": "text/x-python",
   "name": "python",
   "nbconvert_exporter": "python",
   "pygments_lexer": "ipython3",
   "version": "3.9.7"
  },
  "orig_nbformat": 4,
  "vscode": {
   "interpreter": {
    "hash": "ad2bdc8ecc057115af97d19610ffacc2b4e99fae6737bb82f5d7fb13d2f2c186"
   }
  }
 },
 "nbformat": 4,
 "nbformat_minor": 2
}
